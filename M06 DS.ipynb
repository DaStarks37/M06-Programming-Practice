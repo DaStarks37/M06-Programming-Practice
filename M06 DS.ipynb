{
 "cells": [
  {
   "cell_type": "code",
   "execution_count": 1,
   "id": "0ab8dce8",
   "metadata": {},
   "outputs": [
    {
     "name": "stdout",
     "output_type": "stream",
     "text": [
      "Today's date and time: 2024-02-23 14:50:33.900750\n"
     ]
    }
   ],
   "source": [
    "import datetime as dt\n",
    "current = str(dt.datetime.now())\n",
    "def Thingy(filename):\n",
    "    file=open(filename, \"w+\")\n",
    "    file.write(\"Today's date and time: \" + current)\n",
    "    file.close()\n",
    "    file=open(filename, \"r\")\n",
    "    print(file.read())\n",
    "Thingy(\"today.txt\")\n"
   ]
  },
  {
   "cell_type": "code",
   "execution_count": 4,
   "id": "70c97fa4",
   "metadata": {},
   "outputs": [
    {
     "name": "stdout",
     "output_type": "stream",
     "text": [
      "Process 948 says: I am the main program\n"
     ]
    }
   ],
   "source": [
    "#Use multiprocessing to create three separate processes. Make each one wait a random number of seconds between zero and one, print the current time, and then exit\n",
    "#This works when I run it normally (not on jupyter).\n",
    "import datetime as dt\n",
    "import time\n",
    "import random as rng\n",
    "import multiprocessing\n",
    "import os\n",
    "\n",
    "\n",
    "def samiam(what):\n",
    "    print(\"Process %s says: %s\" % (os.getpid(), what))\n",
    "\n",
    "def noiamthesamiamthatiamthesamiam(what):\n",
    "    randomnumbah = rng.random()\n",
    "    time.sleep(randomnumbah)\n",
    "    print(dt.datetime.now())\n",
    "\n",
    "if __name__ == \"__main__\":\n",
    "    samiam(\"I am the main program\")\n",
    "    for n in range(3):\n",
    "        p = multiprocessing.Process(target=noiamthesamiamthatiamthesamiam,\n",
    "          args=(\"I'm function %s\" % n,))\n",
    "        p.start()"
   ]
  },
  {
   "cell_type": "code",
   "execution_count": null,
   "id": "9dfe8024",
   "metadata": {},
   "outputs": [],
   "source": []
  }
 ],
 "metadata": {
  "kernelspec": {
   "display_name": "Python 3 (ipykernel)",
   "language": "python",
   "name": "python3"
  },
  "language_info": {
   "codemirror_mode": {
    "name": "ipython",
    "version": 3
   },
   "file_extension": ".py",
   "mimetype": "text/x-python",
   "name": "python",
   "nbconvert_exporter": "python",
   "pygments_lexer": "ipython3",
   "version": "3.11.5"
  }
 },
 "nbformat": 4,
 "nbformat_minor": 5
}
